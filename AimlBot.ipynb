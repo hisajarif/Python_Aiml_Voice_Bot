{
 "cells": [
  {
   "cell_type": "code",
   "execution_count": null,
   "metadata": {},
   "outputs": [],
   "source": [
    "import time\n",
    "import speech_recognition as sr\n",
    "import wikipedia\n",
    "import pyttsx3\n",
    "import os\n",
    "import aiml"
   ]
  },
  {
   "cell_type": "code",
   "execution_count": null,
   "metadata": {},
   "outputs": [],
   "source": [
    "def speaks(audioString):\n",
    "    engine = pyttsx3.init()\n",
    "    engine.setProperty('rate', 180)\n",
    "    engine.say(audioString)\n",
    "    engine.runAndWait()\n",
    "    \n",
    "def recordAudio():\n",
    "    # Record Audio\n",
    "    r = sr.Recognizer()\n",
    "    with sr.Microphone() as source:\n",
    "        print(\"Say something!\")\n",
    "        audio = r.listen(source)\n",
    " \n",
    "    # Speech recognition using Google Speech Recognition\n",
    "    data = \"\"\n",
    "    try:\n",
    "        data = r.recognize_google(audio)\n",
    "        print(\"You said: \" + data)\n",
    "    except sr.UnknownValueError:\n",
    "        print(\"Google Speech Recognition could not understand audio\")\n",
    "    except sr.RequestError as e:\n",
    "        print(\"Could not request results from Google Speech Recognition service; {0}\".format(e))\n",
    " \n",
    "    return data"
   ]
  },
  {
   "cell_type": "code",
   "execution_count": null,
   "metadata": {},
   "outputs": [],
   "source": [
    "def jarvis(data):\n",
    "    if \"hi\" in data:\n",
    "        speaks(\"hi, how do you do\")\n",
    " \n",
    "    elif \"what time is it\" in data:\n",
    "        speaks(ctime())\n",
    "\n",
    "    else if \"who made you\" in data:\n",
    "        speaks(\"I am an technology developed by you \")\n",
    "        \n",
    "    elif \"who is\" in data:\n",
    "        data = data.replace('who is ','')\n",
    "        speaks(wikipedia.summary(data))\n",
    "        \n",
    "    elif \"where is\" in data:\n",
    "        data = data.split(\" \")\n",
    "        location = data[2]\n",
    "        speaks(\"Hold on, I will show you where \" + location + \" is.\")\n",
    "        os.system(\"start chrome https://www.google.nl/maps/place/\" + location + \"/&amp;\")\n",
    "    else:\n",
    "        s = kernel.respond(data)\n",
    "        speaks(s)"
   ]
  },
  {
   "cell_type": "code",
   "execution_count": null,
   "metadata": {},
   "outputs": [],
   "source": [
    "kernel = aiml.Kernel()\n",
    "\n",
    "if os.path.isfile(\"bot_brain.brn\"):\n",
    "    kernel.bootstrap(brainFile = \"bot_brain.brn\")\n",
    "else:\n",
    "    kernel.bootstrap(learnFiles = \"std-startup.xml\", commands = \"load aiml\")\n",
    "    kernel.saveBrain(\"bot_brain.brn\")\n",
    " \n",
    "# initialization\n",
    "time.sleep(2)\n",
    "speaks(\"Hi, what can I do for you?\")\n",
    "#while True:\n",
    "for i in range(3):\n",
    "    data = recordAudio()\n",
    "    jarvis(data)\n",
    "    "
   ]
  },
  {
   "cell_type": "code",
   "execution_count": null,
   "metadata": {},
   "outputs": [],
   "source": []
  },
  {
   "cell_type": "code",
   "execution_count": null,
   "metadata": {},
   "outputs": [],
   "source": []
  },
  {
   "cell_type": "code",
   "execution_count": null,
   "metadata": {},
   "outputs": [],
   "source": []
  }
 ],
 "metadata": {
  "kernelspec": {
   "display_name": "Python 3",
   "language": "python",
   "name": "python3"
  },
  "language_info": {
   "codemirror_mode": {
    "name": "ipython",
    "version": 3
   },
   "file_extension": ".py",
   "mimetype": "text/x-python",
   "name": "python",
   "nbconvert_exporter": "python",
   "pygments_lexer": "ipython3",
   "version": "3.6.3"
  }
 },
 "nbformat": 4,
 "nbformat_minor": 2
}
